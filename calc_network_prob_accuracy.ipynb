{
 "cells": [
  {
   "cell_type": "code",
   "execution_count": null,
   "metadata": {},
   "outputs": [],
   "source": [
    "%load_ext autoreload\n",
    "%autoreload 2"
   ]
  },
  {
   "cell_type": "code",
   "execution_count": null,
   "metadata": {},
   "outputs": [],
   "source": [
    "import numpy as np\n",
    "import matplotlib.pyplot as plt"
   ]
  },
  {
   "cell_type": "code",
   "execution_count": null,
   "metadata": {},
   "outputs": [],
   "source": [
    "HOME_WIN = 'home_win'\n",
    "AWAY_WIN = 'away_win'\n",
    "DRAW = 'draw'\n",
    "HOME_GOALS = 'home_goals'\n",
    "AWAY_GOALS = 'away_goals'"
   ]
  },
  {
   "cell_type": "code",
   "execution_count": null,
   "metadata": {},
   "outputs": [],
   "source": [
    "import pandas as pd\n",
    "\n",
    "# Replace 'your_file.csv' with the actual path to your CSV file\n",
    "file_path = 'network_predictions_data.csv'\n",
    "# Read the CSV file into a Pandas DataFrame\n",
    "df = pd.read_csv(file_path)\n",
    "\n",
    "# Now you can work with the DataFrame 'df' as needed\n",
    "#print(df.head())  \n"
   ]
  },
  {
   "cell_type": "code",
   "execution_count": null,
   "metadata": {},
   "outputs": [],
   "source": [
    "## Filtering only past events\n",
    "\n",
    "from datetime import datetime\n",
    "\n",
    "# Convert the \"commence_time\" column to datetime\n",
    "df['commence_time'] = pd.to_datetime(df['commence_time'])\n",
    "\n",
    "# Get the current date without the time component\n",
    "current_date = datetime.now().date()\n",
    "\n",
    "# Extract the date component from the \"commence_time\" column\n",
    "df['commence_date'] = df['commence_time'].dt.date\n",
    "\n",
    "# Filter rows where \"commence_date\" is greater than the current date\n",
    "filtered_df = df[df['commence_date'] < current_date]\n",
    "\n",
    "# Drop the temporary \"commence_date\" column if you don't need it\n",
    "filtered_df = filtered_df.drop(columns=['commence_date'])\n",
    "\n",
    "# print(filtered_df)"
   ]
  },
  {
   "cell_type": "code",
   "execution_count": null,
   "metadata": {},
   "outputs": [],
   "source": [
    "LOW_ODD_LIMIT = 1.0\n",
    "UPP_ODD_LIMIT = 5.6 \n",
    "ODD_STEP_SIZE = 0.2\n",
    "\n",
    "bins_number = round((UPP_ODD_LIMIT - LOW_ODD_LIMIT) / ODD_STEP_SIZE)\n",
    "\n",
    "print(bins_number)"
   ]
  },
  {
   "cell_type": "code",
   "execution_count": null,
   "metadata": {},
   "outputs": [],
   "source": [
    "from odds_accuracy_utils import get_match_outcome, get_bin_index, fill_h2h_bins, fill_h2h_bins_for_away_events\n",
    "\n",
    "bins_labels = []\n",
    "for i in range(0,bins_number):\n",
    "    bins_labels.append(f\"{round(LOW_ODD_LIMIT + i*ODD_STEP_SIZE, 1)}-{round(LOW_ODD_LIMIT + (i+1)*ODD_STEP_SIZE, 1)}\")\n",
    "\n",
    "bins = []\n",
    "for i in range (0, bins_number):\n",
    "    bins.append([])\n",
    "\n",
    "## Filteirng only head-to-head results\n",
    "for index, row in filtered_df.iterrows():\n",
    "    match_score = get_match_outcome(row)\n",
    "    home_win_odd = float(row[HOME_WIN])\n",
    "    away_win_odd = float(row[AWAY_WIN])\n",
    "    draw_odd = float(row[DRAW])\n",
    "    home_win_bin_index = get_bin_index(LOW_ODD_LIMIT, UPP_ODD_LIMIT, ODD_STEP_SIZE, home_win_odd)\n",
    "    away_win_bin_index = get_bin_index(LOW_ODD_LIMIT, UPP_ODD_LIMIT, ODD_STEP_SIZE, away_win_odd)\n",
    "    draw_bin_index = get_bin_index(LOW_ODD_LIMIT, UPP_ODD_LIMIT, ODD_STEP_SIZE, draw_odd)\n",
    " \n",
    "    # bins = fill_h2h_bins(bins, match_score, home_win_bin_index, away_win_bin_index, draw_bin_index\n",
    "    #                 , home_win_odd, away_win_odd, draw_odd, only_home=False) \n",
    "\n",
    "    bins = fill_h2h_bins(bins, match_score, home_win_bin_index, away_win_bin_index, draw_bin_index\n",
    "                    , home_win_odd, away_win_odd, draw_odd)     "
   ]
  },
  {
   "cell_type": "code",
   "execution_count": null,
   "metadata": {},
   "outputs": [],
   "source": [
    "print(bins)\n",
    "for i in range(0,len(bins)):\n",
    "    print(f\"Bin n° {i+1} contains {len(bins[i])} events\" )"
   ]
  },
  {
   "cell_type": "code",
   "execution_count": null,
   "metadata": {},
   "outputs": [],
   "source": [
    "probs_accuracies = []\n",
    "\n",
    "for bin in bins:\n",
    "    cum_exp_value = 0.\n",
    "    cum_real_value = 0.\n",
    "    for element in bin:\n",
    "        cum_exp_value += element[0]\n",
    "        if element[1]:\n",
    "            cum_real_value+=1\n",
    "    probs_accuracies.append([cum_exp_value, cum_real_value])    "
   ]
  },
  {
   "cell_type": "code",
   "execution_count": null,
   "metadata": {},
   "outputs": [],
   "source": [
    "norm_probs_accuracies = []\n",
    "\n",
    "for element in probs_accuracies:\n",
    "    if (element[0] != 0): #In case no values exists in the bean, cum_real_value will be 0\n",
    "        norm_probs_accuracies.append(element[1]/element[0])\n",
    "    else:\n",
    "        norm_probs_accuracies.append(1)   \n",
    "\n",
    "print(norm_probs_accuracies)    "
   ]
  },
  {
   "cell_type": "code",
   "execution_count": null,
   "metadata": {},
   "outputs": [],
   "source": [
    "# Create a scatter plot with connecting lines for the first set of data\n",
    "plt.plot(bins_labels, norm_probs_accuracies, color='blue', marker='.', linestyle='-', linewidth=2, label='Real events')\n",
    "\n",
    "# Create a scatter plot with connecting lines for the second set of data\n",
    "plt.plot(bins_labels, np.ones(bins_number), color='red', marker='.', linestyle='-', linewidth=2, label='Expected events')\n",
    "\n",
    "\n",
    "# Adding labels and title\n",
    "plt.xlabel('Bin')\n",
    "plt.ylabel('Real/Expected events number')\n",
    "plt.title('Real/Expected events number for each odds bin')\n",
    "plt.xticks(bins_labels[::3])\n",
    "plt.legend()\n",
    "\n",
    "# Show the plot\n",
    "plt.show()"
   ]
  }
 ],
 "metadata": {
  "language_info": {
   "name": "python"
  }
 },
 "nbformat": 4,
 "nbformat_minor": 2
}
