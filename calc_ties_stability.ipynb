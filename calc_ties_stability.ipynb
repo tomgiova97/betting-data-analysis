{
 "cells": [
  {
   "cell_type": "code",
   "execution_count": null,
   "metadata": {},
   "outputs": [],
   "source": [
    "%load_ext autoreload\n",
    "%autoreload 2"
   ]
  },
  {
   "cell_type": "code",
   "execution_count": 3,
   "metadata": {},
   "outputs": [
    {
     "name": "stdout",
     "output_type": "stream",
     "text": [
      "1535\n"
     ]
    }
   ],
   "source": [
    "import pandas as pd\n",
    "\n",
    "# Replace 'your_file.csv' with the actual path to your CSV file\n",
    "file_path = 'sport_odds_data.csv'\n",
    "\n",
    "\n",
    "# Read the CSV file into a Pandas DataFrame\n",
    "df = pd.read_csv(file_path)\n",
    "\n",
    "# Now you can work with the DataFrame 'df' as needed\n",
    "# print(df.head())  \n",
    "\n",
    "print(len(df))"
   ]
  },
  {
   "cell_type": "code",
   "execution_count": 2,
   "metadata": {},
   "outputs": [
    {
     "name": "stdout",
     "output_type": "stream",
     "text": [
      "['id', 'sport_key', 'sport_title', 'commence_time', 'home_team', 'away_team', 'bookmaker_key', 'bookmaker_title', 'home_win', 'away_win', 'draw', 'over_2_5', 'under_2_5', 'home_goals', 'away_goals']\n"
     ]
    }
   ],
   "source": [
    "# Extract the list of all columns\n",
    "column_list = df.columns.tolist()\n",
    "\n",
    "ID = column_list[0]\n",
    "SPORT_KEY = column_list[1]\n",
    "SPORT_TITLE = column_list[2]\n",
    "COMMENCE_TIME = column_list[3]\n",
    "HOME_TEAM = column_list[4]\n",
    "AWAY_TEAM = column_list[5]\n",
    "BOOKMAKER_KEY = column_list[6]\n",
    "BOOKMAKER_TITLE = column_list[7]\n",
    "HOME_WIN = column_list[8]\n",
    "AWAY_WIN = column_list[9]\n",
    "DRAW = column_list[10]\n",
    "OVER_2_5 = column_list[11]\n",
    "UNDER_2_5 = column_list[12]\n",
    "HOME_GOALS = column_list[13]\n",
    "AWAY_GOALS = column_list[14]\n",
    "\n",
    "print(column_list)"
   ]
  },
  {
   "cell_type": "code",
   "execution_count": 4,
   "metadata": {},
   "outputs": [
    {
     "name": "stdout",
     "output_type": "stream",
     "text": [
      "1443\n"
     ]
    }
   ],
   "source": [
    "## Filtering only past events\n",
    "\n",
    "from datetime import datetime\n",
    "\n",
    "#Saving original commence_time format\n",
    "df_commence_time = df['commence_time']\n",
    "\n",
    "# print(df_commence_time)\n",
    "\n",
    "# Convert the \"commence_time\" column to datetime\n",
    "df['commence_time'] = pd.to_datetime(df['commence_time'])\n",
    "\n",
    "# Get the current date without the time component\n",
    "current_date = datetime.now().date()\n",
    "\n",
    "# Extract the date component from the \"commence_time\" column\n",
    "df['commence_date'] = df['commence_time'].dt.date\n",
    "\n",
    "# Filter rows where \"commence_date\" is before the current date\n",
    "df = df[df['commence_date'] < current_date]\n",
    "\n",
    "# Drop the temporary \"commence_date\" column if you don't need it\n",
    "df = df.drop(columns=['commence_date'])\n",
    "\n",
    "#Restoring original commence_time format\n",
    "df['commence_time'] = df_commence_time\n",
    "\n",
    "print(len(df))\n"
   ]
  },
  {
   "cell_type": "code",
   "execution_count": 5,
   "metadata": {},
   "outputs": [],
   "source": [
    "# Assuming df is your DataFrame\n",
    "# Convert 'commence_time' column to datetime type\n",
    "df['commence_time'] = pd.to_datetime(df['commence_time'])\n",
    "\n",
    "# Find the start date of the first subset\n",
    "start_date = df['commence_time'].iloc[0]\n",
    "\n",
    "# Calculate the number of days in three weeks\n",
    "three_weeks = pd.Timedelta(days=21)\n",
    "\n",
    "# Calculate the end date of the first subset\n",
    "end_date = start_date + three_weeks\n",
    "\n",
    "# Create a list to store the sub-dataframes\n",
    "sub_dfs = []\n",
    "\n",
    "# Iterate over the data in three-week intervals\n",
    "while start_date <= df['commence_time'].max():\n",
    "    # Subset the dataframe based on the current interval\n",
    "    sub_df = df[(df['commence_time'] >= start_date) & (df['commence_time'] < end_date)]\n",
    "    \n",
    "    # Append the subset to the list\n",
    "    sub_dfs.append(sub_df)\n",
    "    \n",
    "    # Move to the next interval\n",
    "    start_date = end_date\n",
    "    end_date = start_date + three_weeks\n",
    "\n",
    "# Now sub_dfs contains the sub-dataframes of length three weeks\n"
   ]
  },
  {
   "cell_type": "code",
   "execution_count": 7,
   "metadata": {},
   "outputs": [
    {
     "name": "stdout",
     "output_type": "stream",
     "text": [
      "12\n"
     ]
    }
   ],
   "source": [
    "print(len(sub_dfs))"
   ]
  },
  {
   "cell_type": "code",
   "execution_count": 11,
   "metadata": {},
   "outputs": [
    {
     "name": "stdout",
     "output_type": "stream",
     "text": [
      "0.27268574917764443 0.0433277534733201\n",
      "0.15889262128287354\n"
     ]
    }
   ],
   "source": [
    "import numpy as np\n",
    "from odds_accuracy_utils import get_match_outcome\n",
    "\n",
    "averages_ties_per_match_in_three_weeks = []\n",
    "for sub_df in sub_dfs:\n",
    "    match_counter = 0\n",
    "    ties_counter = 0\n",
    "    for _, row in sub_df.iterrows():\n",
    "        match_counter += 1\n",
    "        match_outcome = get_match_outcome(row)\n",
    "        if (match_outcome == \"X\"):\n",
    "            ties_counter += 1\n",
    "\n",
    "    averages_ties_per_match_in_three_weeks.append(ties_counter/match_counter)     \n",
    "\n",
    "print(np.average(averages_ties_per_match_in_three_weeks), np.std(averages_ties_per_match_in_three_weeks))     \n",
    "print(np.std(averages_ties_per_match_in_three_weeks)/np.average(averages_ties_per_match_in_three_weeks))      "
   ]
  },
  {
   "cell_type": "code",
   "execution_count": 9,
   "metadata": {},
   "outputs": [
    {
     "data": {
      "image/png": "[encoded data removed]",
      "text/plain": [
       "<Figure size 640x480 with 1 Axes>"
      ]
     },
     "metadata": {},
     "output_type": "display_data"
    }
   ],
   "source": [
    "from matplotlib import pyplot as plt\n",
    "\n",
    "season_stage = range(0, len(averages_ties_per_match_in_three_weeks))\n",
    "\n",
    "# Plotting the result\n",
    "plt.errorbar(season_stage, averages_ties_per_match_in_three_weeks, fmt='o')\n",
    "plt.xlabel('Season stage')\n",
    "plt.ylabel('Ties per match')\n",
    "plt.title(f'Average ties per match through the season')\n",
    "plt.grid(True)\n",
    "plt.show()    \n"
   ]
  }
 ],
 "metadata": {
  "kernelspec": {
   "display_name": "Python 3",
   "language": "python",
   "name": "python3"
  },
  "language_info": {
   "codemirror_mode": {
    "name": "ipython",
    "version": 3
   },
   "file_extension": ".py",
   "mimetype": "text/x-python",
   "name": "python",
   "nbconvert_exporter": "python",
   "pygments_lexer": "ipython3",
   "version": "3.10.12"
  }
 },
 "nbformat": 4,
 "nbformat_minor": 2
}
