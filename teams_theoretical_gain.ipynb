{
 "cells": [
  {
   "cell_type": "code",
   "execution_count": null,
   "metadata": {},
   "outputs": [],
   "source": [
    "%load_ext autoreload\n",
    "%autoreload 2"
   ]
  },
  {
   "cell_type": "code",
   "execution_count": null,
   "metadata": {},
   "outputs": [],
   "source": [
    "import numpy as np\n",
    "import ast\n",
    "from new_utils import calculate_cumulative_gain_ratio\n",
    "import matplotlib.pyplot as plt"
   ]
  },
  {
   "cell_type": "code",
   "execution_count": null,
   "metadata": {},
   "outputs": [],
   "source": [
    "import pandas as pd\n",
    "\n",
    "# Replace 'your_file.csv' with the actual path to your CSV file\n",
    "file_path = 'new_combined_data.csv'\n",
    "\n",
    "\n",
    "# Read the CSV file into a Pandas DataFrame\n",
    "df = pd.read_csv(file_path)\n",
    "\n",
    "# Now you can work with the DataFrame 'df' as needed\n",
    "# print(df.head())  "
   ]
  },
  {
   "cell_type": "code",
   "execution_count": null,
   "metadata": {},
   "outputs": [],
   "source": [
    "teams_gain_ratios = {}\n",
    "\n",
    "for index, row in df.iterrows():\n",
    "    team_name = row['team_name']\n",
    "\n",
    "    team_wins_string = row['wins']\n",
    "    team_wins = ast.literal_eval(team_wins_string)\n",
    "\n",
    "    exp_team_wins_string = row['exp_wins']\n",
    "    exp_team_wins = ast.literal_eval(exp_team_wins_string)\n",
    "\n",
    "    team_matches_home_string = row['matches_home']\n",
    "    team_matches_home = ast.literal_eval(team_matches_home_string)\n",
    "\n",
    "    cum_gain_ratio = calculate_cumulative_gain_ratio(team_wins, exp_team_wins, team_matches_home, True)\n",
    "\n",
    "    teams_gain_ratios[team_name] = cum_gain_ratio\n",
    "\n",
    "\n"
   ]
  },
  {
   "cell_type": "code",
   "execution_count": null,
   "metadata": {},
   "outputs": [],
   "source": [
    "# Sorting the dictionary in order to have the teams with higher gain ratio on top x[1][-1] stands for\n",
    "# \"order my dict according to the last element [-1] of the value of the dict (key->[0], value->[1]) \"\n",
    "\n",
    "sorted_teams_gain_ratios = dict(sorted(teams_gain_ratios.items(), key=lambda x: x[1][-1], reverse=True))\n",
    "\n",
    "print(sorted_teams_gain_ratios)"
   ]
  },
  {
   "cell_type": "code",
   "execution_count": null,
   "metadata": {},
   "outputs": [],
   "source": [
    "#Filter the teams with best performance\n",
    "\n",
    "N = 20  # Specify the number of teams you want\n",
    "\n",
    "# Using list comprehension to create a new dictionary with the first N items\n",
    "# best_teams = dict(list(sorted_teams_gain_ratios.items())[:N])\n",
    "\n",
    "best_teams = {key: value for key, value in sorted_teams_gain_ratios.items() if value[-1] > 1}"
   ]
  },
  {
   "cell_type": "code",
   "execution_count": null,
   "metadata": {},
   "outputs": [],
   "source": [
    "#Plotting best teams performance\n",
    "\n",
    "index = 1\n",
    "\n",
    "for key, value in best_teams.items():\n",
    "    # print(f'Key: {key}, Value: {value}')\n",
    "    # Create a scatter plot with connecting lines for the cumulative gain ratio\n",
    "    plt.figure(index)\n",
    "    x = range(1, len(value) + 1)\n",
    "    plt.plot(x, value, color='blue', marker='.', linestyle='-', linewidth=2, label='Gain ratio')\n",
    "\n",
    "    # Create a scatter plot with connecting lines for the reference line\n",
    "    plt.plot(x, np.ones(len(value)), color='red', marker='.', linestyle='-', linewidth=2, label='Cumulative wagered money line')\n",
    "\n",
    "\n",
    "    # Adding labels and title\n",
    "    plt.xlabel('Games')\n",
    "    plt.ylabel('Gain ratio')\n",
    "    plt.title(f'Cumulative gain ratios for team {key}')\n",
    "    # plt.xticks(converted_dates[::2])\n",
    "    plt.legend()\n",
    "    index +=1\n",
    "# Show the plot\n",
    "plt.show()"
   ]
  }
 ],
 "metadata": {
  "kernelspec": {
   "display_name": "Python 3",
   "language": "python",
   "name": "python3"
  },
  "language_info": {
   "codemirror_mode": {
    "name": "ipython",
    "version": 3
   },
   "file_extension": ".py",
   "mimetype": "text/x-python",
   "name": "python",
   "nbconvert_exporter": "python",
   "pygments_lexer": "ipython3",
   "version": "3.10.12"
  },
  "orig_nbformat": 4
 },
 "nbformat": 4,
 "nbformat_minor": 2
}
