{
 "cells": [
  {
   "cell_type": "code",
   "execution_count": 70,
   "metadata": {},
   "outputs": [
    {
     "name": "stdout",
     "output_type": "stream",
     "text": [
      "The autoreload extension is already loaded. To reload it, use:\n",
      "  %reload_ext autoreload\n"
     ]
    }
   ],
   "source": [
    "%load_ext autoreload\n",
    "%autoreload 2"
   ]
  },
  {
   "cell_type": "code",
   "execution_count": 71,
   "metadata": {},
   "outputs": [
    {
     "name": "stdout",
     "output_type": "stream",
     "text": [
      "                                 id             sport_key      sport_title  \\\n",
      "0  36ef50d163eab8fead2e9057ea285813  soccer_spain_la_liga  La Liga - Spain   \n",
      "1  de85dfe0264387226910b82d6dee497e  soccer_spain_la_liga  La Liga - Spain   \n",
      "2  e383bb923c9f0dbada318482c2b852e3  soccer_spain_la_liga  La Liga - Spain   \n",
      "3  7799285a1f7ceb0890e4d3944fd72e5e  soccer_spain_la_liga  La Liga - Spain   \n",
      "4  d02097711436bdc83a2e2560a1d2133e  soccer_spain_la_liga  La Liga - Spain   \n",
      "\n",
      "          commence_time        home_team    away_team bookmaker_key  \\\n",
      "0  2023-08-14T19:32:26Z  Atlético Madrid   Granada CF   williamhill   \n",
      "1  2023-08-18T17:30:00Z         Mallorca   Villarreal   williamhill   \n",
      "2  2023-08-18T19:30:00Z         Valencia   Las Palmas   williamhill   \n",
      "3  2023-08-19T15:00:00Z    Real Sociedad   Celta Vigo   williamhill   \n",
      "4  2023-08-19T17:30:00Z          Almería  Real Madrid   williamhill   \n",
      "\n",
      "  bookmaker_title  home_win  away_win  draw  over_2_5  under_2_5  home_goals  \\\n",
      "0    William Hill      1.29      9.50   5.5      1.62       2.20         3.0   \n",
      "1    William Hill      3.00      2.45   3.2      2.30       1.57         0.0   \n",
      "2    William Hill      4.80      1.75   3.6      2.25       1.60         1.0   \n",
      "3    William Hill      1.70      5.50   3.4      2.38       1.53         1.0   \n",
      "4    William Hill      8.00      1.36   4.8      1.44       2.62         1.0   \n",
      "\n",
      "   away_goals  \n",
      "0         1.0  \n",
      "1         1.0  \n",
      "2         0.0  \n",
      "3         1.0  \n",
      "4         3.0  \n"
     ]
    }
   ],
   "source": [
    "import pandas as pd\n",
    "\n",
    "# Replace 'your_file.csv' with the actual path to your CSV file\n",
    "file_path = 'sport_odds_data.csv'\n",
    "\n",
    "\n",
    "# Read the CSV file into a Pandas DataFrame\n",
    "df = pd.read_csv(file_path)\n",
    "\n",
    "# Now you can work with the DataFrame 'df' as needed\n",
    "print(df.head())  "
   ]
  },
  {
   "cell_type": "code",
   "execution_count": 72,
   "metadata": {},
   "outputs": [
    {
     "name": "stdout",
     "output_type": "stream",
     "text": [
      "['id', 'sport_key', 'sport_title', 'commence_time', 'home_team', 'away_team', 'bookmaker_key', 'bookmaker_title', 'home_win', 'away_win', 'draw', 'over_2_5', 'under_2_5', 'home_goals', 'away_goals']\n"
     ]
    }
   ],
   "source": [
    "# Extract the list of all columns\n",
    "column_list = df.columns.tolist()\n",
    "\n",
    "ID = column_list[0]\n",
    "SPORT_KEY = column_list[1]\n",
    "SPORT_TITLE = column_list[2]\n",
    "COMMENCE_TIME = column_list[3]\n",
    "HOME_TEAM = column_list[4]\n",
    "AWAY_TEAM = column_list[5]\n",
    "BOOKMAKER_KEY = column_list[6]\n",
    "BOOKMAKER_TITLE = column_list[7]\n",
    "HOME_WIN = column_list[8]\n",
    "AWAY_WIN = column_list[9]\n",
    "DRAW = column_list[10]\n",
    "OVER_2_5 = column_list[11]\n",
    "UNDER_2_5 = column_list[12]\n",
    "HOME_GOALS = column_list[13]\n",
    "AWAY_GOALS = column_list[14]\n",
    "\n",
    "print(column_list)"
   ]
  },
  {
   "cell_type": "code",
   "execution_count": 73,
   "metadata": {},
   "outputs": [],
   "source": [
    "## Filtering only past events\n",
    "\n",
    "from datetime import datetime\n",
    "\n",
    "#Saving original commence_time format\n",
    "df_commence_time = df['commence_time']\n",
    "\n",
    "# print(df_commence_time)\n",
    "\n",
    "# Convert the \"commence_time\" column to datetime\n",
    "df['commence_time'] = pd.to_datetime(df['commence_time'])\n",
    "\n",
    "# Get the current date without the time component\n",
    "current_date = datetime.now().date()\n",
    "\n",
    "# Extract the date component from the \"commence_time\" column\n",
    "df['commence_date'] = df['commence_time'].dt.date\n",
    "\n",
    "# Filter rows where \"commence_date\" is before the current date\n",
    "df = df[df['commence_date'] < current_date]\n",
    "\n",
    "# Drop the temporary \"commence_date\" column if you don't need it\n",
    "df = df.drop(columns=['commence_date'])\n",
    "\n",
    "#Restoring original commence_time format\n",
    "df['commence_time'] = df_commence_time\n",
    "\n",
    "# print(df.head())  "
   ]
  },
  {
   "cell_type": "code",
   "execution_count": 74,
   "metadata": {},
   "outputs": [],
   "source": [
    "# # Extract the list of all columns\n",
    "# column_list = df.columns.tolist()\n",
    "\n",
    "# ID = column_list[0]\n",
    "# SPORT_KEY = column_list[1]\n",
    "# SPORT_TITLE = column_list[2]\n",
    "# COMMENCE_TIME = column_list[3]\n",
    "# HOME_TEAM = column_list[4]\n",
    "# AWAY_TEAM = column_list[5]\n",
    "# BOOKMAKER_KEY = column_list[6]\n",
    "# BOOKMAKER_TITLE = column_list[7]\n",
    "# HOME_WIN = column_list[8]\n",
    "# AWAY_WIN = column_list[9]\n",
    "# DRAW = column_list[10]\n",
    "# OVER_2_5 = column_list[11]\n",
    "# UNDER_2_5 = column_list[12]\n",
    "# HOME_GOALS = column_list[13]\n",
    "# AWAY_GOALS = column_list[14]\n",
    "\n",
    "# print(column_list)"
   ]
  },
  {
   "cell_type": "code",
   "execution_count": 75,
   "metadata": {},
   "outputs": [
    {
     "name": "stdout",
     "output_type": "stream",
     "text": [
      "['Atlético Madrid', 'Mallorca', 'Valencia', 'Real Sociedad', 'Almería', 'CA Osasuna', 'Girona', 'Barcelona', 'Real Betis', 'Alavés', 'Granada CF', 'Las Palmas', 'Celta Vigo', 'Cádiz CF', 'Sevilla', 'Villarreal', 'Athletic Bilbao', 'Getafe', 'Rayo Vallecano', 'Werder Bremen', 'Augsburg', 'Bayer Leverkusen', 'VfL Wolfsburg', 'TSG Hoffenheim', 'VfB Stuttgart', 'Borussia Dortmund', 'Union Berlin', 'Eintracht Frankfurt', 'RB Leipzig', 'FC Heidenheim', 'FC Koln', 'SC Freiburg', 'SV Darmstadt 98', 'Borussia Monchengladbach', 'FSV Mainz 05', 'Empoli', 'Frosinone', 'Genoa', 'Inter Milan', 'AS Roma', 'Sassuolo', 'Udinese', 'Lecce', 'Torino', 'Bologna', 'Monza', 'AC Milan', 'Hellas Verona FC', 'Juventus', 'Fiorentina', 'Lazio', 'Napoli', 'Salernitana', 'Metz', 'Lyon', 'Toulouse', 'Lille', 'Le Havre', 'Stade de Reims', 'Lorient', 'AS Monaco', 'RC Lens', 'Nottingham Forest', 'Liverpool', 'Fulham', 'Wolverhampton Wanderers', 'Tottenham Hotspur', 'Manchester City', 'Aston Villa', 'West Ham United', 'Crystal Palace', 'Chelsea', 'Bournemouth', 'Arsenal', 'Brentford', 'Everton', 'Manchester United', 'Brighton and Hove Albion', 'Burnley', 'Sheffield United', 'Newcastle United', 'Cagliari', 'Nantes', 'Marseille', 'Paris Saint Germain', 'Rennes', 'Clermont', 'Montpellier', 'Strasbourg', 'Nice', 'VfL Bochum', 'Bayern Munich', 'Atalanta BC', 'Luton', 'Brest', 'Real Madrid']\n"
     ]
    }
   ],
   "source": [
    "teams_list = pd.concat([df['home_team'], df['away_team']]).unique().tolist()\n",
    "\n",
    "print(teams_list)"
   ]
  },
  {
   "cell_type": "code",
   "execution_count": 76,
   "metadata": {},
   "outputs": [],
   "source": [
    "#Filtering for all the teams\n",
    "from new_utils import calc_team_data\n",
    "\n",
    "teams_data = []\n",
    "\n",
    "for team_name in teams_list:\n",
    "    team_rows = df[(df['home_team'] == team_name) | (df['away_team'] == team_name)]\n",
    "    # print(team_rows)\n",
    "    teams_data.append(calc_team_data(team_name, team_rows))"
   ]
  },
  {
   "cell_type": "code",
   "execution_count": 77,
   "metadata": {},
   "outputs": [],
   "source": [
    "# print(len(teams_data))\n",
    "\n",
    "# for team in teams_data:\n",
    "#     print(team)\n"
   ]
  },
  {
   "cell_type": "code",
   "execution_count": 78,
   "metadata": {},
   "outputs": [],
   "source": [
    "# Converting the list of TeamData objects in a list of dataframes\n",
    "teams_df_columns = ['team_name', 'dates', 'wins', 'defeats', 'draws', 'exp_wins', 'exp_defeats'\n",
    "                    , 'exp_draws', 'under_2_5', 'over_2_5', 'exp_under_2_5', 'exp_over_2_5']\n",
    "\n",
    "teams_stats_df = pd.DataFrame(columns=teams_df_columns)\n",
    "\n",
    "for i in range (0, len(teams_data)):\n",
    "    teams_stats_df.loc[i] = [teams_data[i].team_name, teams_data[i].dates, teams_data[i].wins, teams_data[i].defeats\n",
    "                             , teams_data[i].draws, teams_data[i].exp_wins\n",
    "                             , teams_data[i].exp_defeats, teams_data[i].exp_draws\n",
    "                             , teams_data[i].under_2_5, teams_data[i].over_2_5\n",
    "                             , teams_data[i].exp_under_2_5, teams_data[i].exp_over_2_5]\n",
    "\n",
    "\n",
    "\n",
    "#print (teams_stats_df)"
   ]
  },
  {
   "cell_type": "code",
   "execution_count": 79,
   "metadata": {},
   "outputs": [],
   "source": [
    "# Save the combined DataFrame to a single CSV file\n",
    "teams_stats_df.to_csv('new_combined_data.csv', index=False)"
   ]
  }
 ],
 "metadata": {
  "kernelspec": {
   "display_name": "Python 3",
   "language": "python",
   "name": "python3"
  },
  "language_info": {
   "codemirror_mode": {
    "name": "ipython",
    "version": 3
   },
   "file_extension": ".py",
   "mimetype": "text/x-python",
   "name": "python",
   "nbconvert_exporter": "python",
   "pygments_lexer": "ipython3",
   "version": "3.11.5"
  },
  "orig_nbformat": 4
 },
 "nbformat": 4,
 "nbformat_minor": 2
}
