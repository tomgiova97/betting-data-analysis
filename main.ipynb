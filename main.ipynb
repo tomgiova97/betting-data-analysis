{
 "cells": [
  {
   "cell_type": "code",
   "execution_count": null,
   "metadata": {},
   "outputs": [],
   "source": [
    "%load_ext autoreload\n",
    "%autoreload 2"
   ]
  },
  {
   "cell_type": "code",
   "execution_count": 19,
   "metadata": {},
   "outputs": [],
   "source": [
    "from utils import is_team_home, is_score_draw, is_team_winner, calc_expected_outcomes"
   ]
  },
  {
   "cell_type": "code",
   "execution_count": 25,
   "metadata": {},
   "outputs": [],
   "source": [
    "import pandas as pd\n",
    "\n",
    "# Replace 'your_file.csv' with the actual path to your CSV file\n",
    "file_path = 'simulated_odds.csv'\n",
    "\n",
    "# Read the CSV file into a Pandas DataFrame\n",
    "df = pd.read_csv(file_path)\n",
    "\n",
    "# Now you can work with the DataFrame 'df' as needed\n",
    "#print(df.head())  "
   ]
  },
  {
   "cell_type": "code",
   "execution_count": 4,
   "metadata": {},
   "outputs": [],
   "source": [
    "# Extract the list of all columns\n",
    "column_list = df.columns.tolist()\n",
    "\n",
    "DATE = column_list[0]\n",
    "MATCH = column_list[1]\n",
    "HOME_GOALS = column_list[2]\n",
    "AWAY_GOALS = column_list[3]\n",
    "HOME_WIN_ODDS = column_list[4]\n",
    "DRAW_ODDS = column_list[5]\n",
    "AWAY_WIN_ODDS = column_list[6]\n",
    "UNDER_2_5_ODDS = column_list[7]\n",
    "OVER_2_5_ODDS = column_list[8]\n"
   ]
  },
  {
   "cell_type": "code",
   "execution_count": 5,
   "metadata": {},
   "outputs": [
    {
     "name": "stdout",
     "output_type": "stream",
     "text": [
      "['Leicester City', 'Chelsea', 'West Ham United', 'Liverpool', 'Burnley', 'Leeds United', 'Crystal Palace', 'Manchester City', 'Norwich City', 'Tottenham Hotspur', 'Wolverhampton', 'Brentford', 'Brighton', 'Arsenal', 'Manchester United', 'Southampton', 'Everton', 'Newcastle United', 'Aston Villa', 'Watford']\n"
     ]
    }
   ],
   "source": [
    "# Extract unique team names\n",
    "teams = set()\n",
    "for match in df['Match']:\n",
    "    teams.update(match.split(' vs '))\n",
    "\n",
    "teams_list = list(teams)\n",
    "print(teams_list)"
   ]
  },
  {
   "cell_type": "code",
   "execution_count": 21,
   "metadata": {},
   "outputs": [],
   "source": [
    "\n",
    "\n",
    "#Filter all the matches of a specific team\n",
    "team_to_filter = 'Arsenal'\n",
    "wins=0\n",
    "exp_wins=0\n",
    "draws=0\n",
    "exp_draws=0\n",
    "defeats=0\n",
    "exp_defeats=0\n",
    "\n",
    "filtered_rows = df[df['Match'].str.contains(team_to_filter)]\n",
    "\n",
    "#print(filtered_rows)\n",
    "\n",
    "# Loop through rows using iterrows()\n",
    "for index, row in filtered_rows.iterrows():\n",
    "    is_match_home = is_team_home(team_to_filter, row[MATCH])\n",
    "    exp_outcomes = calc_expected_outcomes(is_match_home, row[HOME_WIN_ODDS], row[AWAY_WIN_ODDS], row[DRAW_ODDS])\n",
    "    exp_wins += exp_outcomes[0]\n",
    "    exp_defeats += exp_outcomes[1]\n",
    "    exp_draws += exp_outcomes[2]\n",
    "    if (is_score_draw(row[HOME_GOALS], row[AWAY_GOALS])):\n",
    "        draws+=1\n",
    "    else:\n",
    "        if (is_team_winner(is_match_home, row[HOME_GOALS], row[AWAY_GOALS])):\n",
    "            wins+=1    \n",
    "        else :\n",
    "            defeats+=1   \n",
    "\n"
   ]
  },
  {
   "cell_type": "code",
   "execution_count": 23,
   "metadata": {},
   "outputs": [
    {
     "name": "stdout",
     "output_type": "stream",
     "text": [
      "3.1582863336528657 3.271285506583245 2.5514387573211104\n",
      "          Date                       Match  Home Goals  Away Goals  \\\n",
      "0   2023-08-12          Arsenal vs Chelsea           1           2   \n",
      "4   2023-08-13   Leicester City vs Arsenal           1           1   \n",
      "18  2023-08-19          Everton vs Arsenal           1           1   \n",
      "21  2023-08-26  Arsenal vs Manchester City           0           2   \n",
      "26  2023-09-02          Everton vs Arsenal           1           1   \n",
      "30  2023-09-09  Arsenal vs West Ham United           3           2   \n",
      "37  2023-09-23        Liverpool vs Arsenal           2           1   \n",
      "41  2023-09-30  Arsenal vs Manchester City           0           2   \n",
      "46  2023-10-07          Everton vs Arsenal           1           1   \n",
      "\n",
      "    1 (Home Win) Odds  X (Draw) Odds  2 (Away Win) Odds  Under 2.5 Odds  \\\n",
      "0                2.10            3.4               3.20             2.2   \n",
      "4                3.00            3.5               2.30             2.0   \n",
      "18               2.30            3.4               3.30             2.0   \n",
      "21               4.00            3.5               2.35             2.3   \n",
      "26               3.10            3.3               3.00             2.3   \n",
      "30               2.15            4.0               4.00             2.3   \n",
      "37               2.25            4.0               3.20             2.0   \n",
      "41               4.00            3.5               2.35             2.3   \n",
      "46               3.10            3.3               3.00             2.3   \n",
      "\n",
      "    Over 2.5 Odds  \n",
      "0            2.30  \n",
      "4            2.25  \n",
      "18           2.25  \n",
      "21           2.10  \n",
      "26           2.25  \n",
      "30           2.20  \n",
      "37           2.15  \n",
      "41           2.10  \n",
      "46           2.25  \n"
     ]
    }
   ],
   "source": [
    "print(exp_wins, exp_defeats, exp_draws)\n",
    "print(filtered_rows)"
   ]
  }
 ],
 "metadata": {
  "kernelspec": {
   "display_name": "Python 3",
   "language": "python",
   "name": "python3"
  },
  "language_info": {
   "codemirror_mode": {
    "name": "ipython",
    "version": 3
   },
   "file_extension": ".py",
   "mimetype": "text/x-python",
   "name": "python",
   "nbconvert_exporter": "python",
   "pygments_lexer": "ipython3",
   "version": "3.11.4"
  },
  "orig_nbformat": 4
 },
 "nbformat": 4,
 "nbformat_minor": 2
}
